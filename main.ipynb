{
 "cells": [
  {
   "cell_type": "markdown",
   "id": "5501047b",
   "metadata": {},
   "source": [
    "## Setup\n",
    "\n"
   ]
  },
  {
   "cell_type": "code",
   "execution_count": 47,
   "id": "fa3d443c",
   "metadata": {},
   "outputs": [],
   "source": [
    "import pandas as pd\n",
    "import numpy as np \n",
    "# Modeling \n",
    "from sklearn.model_selection import train_test_split, KFold, cross_val_score, GridSearchCV\n",
    "from sklearn.preprocessing import StandardScaler\n",
    "from sklearn.pipeline import Pipeline\n",
    "from sklearn.linear_model import LinearRegression, Lasso, Ridge, LogisticRegression\n",
    "from sklearn.metrics import mean_squared_error, mean_absolute_error, r2_score, accuracy_score\n",
    "# data\n",
    "from sklearn.datasets import fetch_california_housing\n",
    "# Statsmodel\n",
    "import statsmodels.api as sm"
   ]
  },
  {
   "cell_type": "markdown",
   "id": "8a65cfc8",
   "metadata": {},
   "source": [
    "## Load Dataset & EDA"
   ]
  },
  {
   "cell_type": "code",
   "execution_count": 48,
   "id": "43f5a51b",
   "metadata": {},
   "outputs": [
    {
     "data": {
      "text/html": [
       "<div>\n",
       "<style scoped>\n",
       "    .dataframe tbody tr th:only-of-type {\n",
       "        vertical-align: middle;\n",
       "    }\n",
       "\n",
       "    .dataframe tbody tr th {\n",
       "        vertical-align: top;\n",
       "    }\n",
       "\n",
       "    .dataframe thead th {\n",
       "        text-align: right;\n",
       "    }\n",
       "</style>\n",
       "<table border=\"1\" class=\"dataframe\">\n",
       "  <thead>\n",
       "    <tr style=\"text-align: right;\">\n",
       "      <th></th>\n",
       "      <th>MedInc</th>\n",
       "      <th>HouseAge</th>\n",
       "      <th>AveRooms</th>\n",
       "      <th>AveBedrms</th>\n",
       "      <th>Population</th>\n",
       "      <th>AveOccup</th>\n",
       "      <th>Latitude</th>\n",
       "      <th>Longitude</th>\n",
       "      <th>MedHouseVal</th>\n",
       "    </tr>\n",
       "  </thead>\n",
       "  <tbody>\n",
       "    <tr>\n",
       "      <th>0</th>\n",
       "      <td>8.3252</td>\n",
       "      <td>41.0</td>\n",
       "      <td>6.984127</td>\n",
       "      <td>1.023810</td>\n",
       "      <td>322.0</td>\n",
       "      <td>2.555556</td>\n",
       "      <td>37.88</td>\n",
       "      <td>-122.23</td>\n",
       "      <td>4.526</td>\n",
       "    </tr>\n",
       "    <tr>\n",
       "      <th>1</th>\n",
       "      <td>8.3014</td>\n",
       "      <td>21.0</td>\n",
       "      <td>6.238137</td>\n",
       "      <td>0.971880</td>\n",
       "      <td>2401.0</td>\n",
       "      <td>2.109842</td>\n",
       "      <td>37.86</td>\n",
       "      <td>-122.22</td>\n",
       "      <td>3.585</td>\n",
       "    </tr>\n",
       "    <tr>\n",
       "      <th>2</th>\n",
       "      <td>7.2574</td>\n",
       "      <td>52.0</td>\n",
       "      <td>8.288136</td>\n",
       "      <td>1.073446</td>\n",
       "      <td>496.0</td>\n",
       "      <td>2.802260</td>\n",
       "      <td>37.85</td>\n",
       "      <td>-122.24</td>\n",
       "      <td>3.521</td>\n",
       "    </tr>\n",
       "    <tr>\n",
       "      <th>3</th>\n",
       "      <td>5.6431</td>\n",
       "      <td>52.0</td>\n",
       "      <td>5.817352</td>\n",
       "      <td>1.073059</td>\n",
       "      <td>558.0</td>\n",
       "      <td>2.547945</td>\n",
       "      <td>37.85</td>\n",
       "      <td>-122.25</td>\n",
       "      <td>3.413</td>\n",
       "    </tr>\n",
       "    <tr>\n",
       "      <th>4</th>\n",
       "      <td>3.8462</td>\n",
       "      <td>52.0</td>\n",
       "      <td>6.281853</td>\n",
       "      <td>1.081081</td>\n",
       "      <td>565.0</td>\n",
       "      <td>2.181467</td>\n",
       "      <td>37.85</td>\n",
       "      <td>-122.25</td>\n",
       "      <td>3.422</td>\n",
       "    </tr>\n",
       "  </tbody>\n",
       "</table>\n",
       "</div>"
      ],
      "text/plain": [
       "   MedInc  HouseAge  AveRooms  ...  Latitude  Longitude  MedHouseVal\n",
       "0  8.3252      41.0  6.984127  ...     37.88    -122.23        4.526\n",
       "1  8.3014      21.0  6.238137  ...     37.86    -122.22        3.585\n",
       "2  7.2574      52.0  8.288136  ...     37.85    -122.24        3.521\n",
       "3  5.6431      52.0  5.817352  ...     37.85    -122.25        3.413\n",
       "4  3.8462      52.0  6.281853  ...     37.85    -122.25        3.422\n",
       "\n",
       "[5 rows x 9 columns]"
      ]
     },
     "execution_count": 48,
     "metadata": {},
     "output_type": "execute_result"
    }
   ],
   "source": [
    "data = fetch_california_housing(as_frame= True)\n",
    "df = data.frame.copy()\n",
    "df.head()"
   ]
  },
  {
   "cell_type": "code",
   "execution_count": 49,
   "id": "4347cafc",
   "metadata": {},
   "outputs": [
    {
     "data": {
      "text/plain": [
       "(20640, 9)"
      ]
     },
     "execution_count": 49,
     "metadata": {},
     "output_type": "execute_result"
    }
   ],
   "source": [
    "df.shape"
   ]
  },
  {
   "cell_type": "code",
   "execution_count": 50,
   "id": "96d905b5",
   "metadata": {},
   "outputs": [
    {
     "name": "stdout",
     "output_type": "stream",
     "text": [
      "<class 'pandas.core.frame.DataFrame'>\n",
      "RangeIndex: 20640 entries, 0 to 20639\n",
      "Data columns (total 9 columns):\n",
      " #   Column       Non-Null Count  Dtype  \n",
      "---  ------       --------------  -----  \n",
      " 0   MedInc       20640 non-null  float64\n",
      " 1   HouseAge     20640 non-null  float64\n",
      " 2   AveRooms     20640 non-null  float64\n",
      " 3   AveBedrms    20640 non-null  float64\n",
      " 4   Population   20640 non-null  float64\n",
      " 5   AveOccup     20640 non-null  float64\n",
      " 6   Latitude     20640 non-null  float64\n",
      " 7   Longitude    20640 non-null  float64\n",
      " 8   MedHouseVal  20640 non-null  float64\n",
      "dtypes: float64(9)\n",
      "memory usage: 1.4 MB\n"
     ]
    }
   ],
   "source": [
    "df.info()"
   ]
  },
  {
   "cell_type": "markdown",
   "id": "6eb39070",
   "metadata": {},
   "source": [
    "###  Check missing value"
   ]
  },
  {
   "cell_type": "code",
   "execution_count": 51,
   "id": "b9987913",
   "metadata": {},
   "outputs": [
    {
     "data": {
      "text/plain": [
       "MedInc         0\n",
       "HouseAge       0\n",
       "AveRooms       0\n",
       "AveBedrms      0\n",
       "Population     0\n",
       "AveOccup       0\n",
       "Latitude       0\n",
       "Longitude      0\n",
       "MedHouseVal    0\n",
       "dtype: int64"
      ]
     },
     "execution_count": 51,
     "metadata": {},
     "output_type": "execute_result"
    }
   ],
   "source": [
    "df.isnull().sum()"
   ]
  },
  {
   "cell_type": "code",
   "execution_count": 52,
   "id": "63e00a01",
   "metadata": {},
   "outputs": [
    {
     "data": {
      "text/html": [
       "<div>\n",
       "<style scoped>\n",
       "    .dataframe tbody tr th:only-of-type {\n",
       "        vertical-align: middle;\n",
       "    }\n",
       "\n",
       "    .dataframe tbody tr th {\n",
       "        vertical-align: top;\n",
       "    }\n",
       "\n",
       "    .dataframe thead th {\n",
       "        text-align: right;\n",
       "    }\n",
       "</style>\n",
       "<table border=\"1\" class=\"dataframe\">\n",
       "  <thead>\n",
       "    <tr style=\"text-align: right;\">\n",
       "      <th></th>\n",
       "      <th>MedInc</th>\n",
       "      <th>HouseAge</th>\n",
       "      <th>AveRooms</th>\n",
       "      <th>AveBedrms</th>\n",
       "      <th>Population</th>\n",
       "      <th>AveOccup</th>\n",
       "      <th>Latitude</th>\n",
       "      <th>Longitude</th>\n",
       "      <th>MedHouseVal</th>\n",
       "    </tr>\n",
       "  </thead>\n",
       "  <tbody>\n",
       "    <tr>\n",
       "      <th>count</th>\n",
       "      <td>20640.000000</td>\n",
       "      <td>20640.000000</td>\n",
       "      <td>20640.000000</td>\n",
       "      <td>20640.000000</td>\n",
       "      <td>20640.000000</td>\n",
       "      <td>20640.000000</td>\n",
       "      <td>20640.000000</td>\n",
       "      <td>20640.000000</td>\n",
       "      <td>20640.000000</td>\n",
       "    </tr>\n",
       "    <tr>\n",
       "      <th>mean</th>\n",
       "      <td>3.870671</td>\n",
       "      <td>28.639486</td>\n",
       "      <td>5.429000</td>\n",
       "      <td>1.096675</td>\n",
       "      <td>1425.476744</td>\n",
       "      <td>3.070655</td>\n",
       "      <td>35.631861</td>\n",
       "      <td>-119.569704</td>\n",
       "      <td>2.068558</td>\n",
       "    </tr>\n",
       "    <tr>\n",
       "      <th>std</th>\n",
       "      <td>1.899822</td>\n",
       "      <td>12.585558</td>\n",
       "      <td>2.474173</td>\n",
       "      <td>0.473911</td>\n",
       "      <td>1132.462122</td>\n",
       "      <td>10.386050</td>\n",
       "      <td>2.135952</td>\n",
       "      <td>2.003532</td>\n",
       "      <td>1.153956</td>\n",
       "    </tr>\n",
       "    <tr>\n",
       "      <th>min</th>\n",
       "      <td>0.499900</td>\n",
       "      <td>1.000000</td>\n",
       "      <td>0.846154</td>\n",
       "      <td>0.333333</td>\n",
       "      <td>3.000000</td>\n",
       "      <td>0.692308</td>\n",
       "      <td>32.540000</td>\n",
       "      <td>-124.350000</td>\n",
       "      <td>0.149990</td>\n",
       "    </tr>\n",
       "    <tr>\n",
       "      <th>25%</th>\n",
       "      <td>2.563400</td>\n",
       "      <td>18.000000</td>\n",
       "      <td>4.440716</td>\n",
       "      <td>1.006079</td>\n",
       "      <td>787.000000</td>\n",
       "      <td>2.429741</td>\n",
       "      <td>33.930000</td>\n",
       "      <td>-121.800000</td>\n",
       "      <td>1.196000</td>\n",
       "    </tr>\n",
       "    <tr>\n",
       "      <th>50%</th>\n",
       "      <td>3.534800</td>\n",
       "      <td>29.000000</td>\n",
       "      <td>5.229129</td>\n",
       "      <td>1.048780</td>\n",
       "      <td>1166.000000</td>\n",
       "      <td>2.818116</td>\n",
       "      <td>34.260000</td>\n",
       "      <td>-118.490000</td>\n",
       "      <td>1.797000</td>\n",
       "    </tr>\n",
       "    <tr>\n",
       "      <th>75%</th>\n",
       "      <td>4.743250</td>\n",
       "      <td>37.000000</td>\n",
       "      <td>6.052381</td>\n",
       "      <td>1.099526</td>\n",
       "      <td>1725.000000</td>\n",
       "      <td>3.282261</td>\n",
       "      <td>37.710000</td>\n",
       "      <td>-118.010000</td>\n",
       "      <td>2.647250</td>\n",
       "    </tr>\n",
       "    <tr>\n",
       "      <th>max</th>\n",
       "      <td>15.000100</td>\n",
       "      <td>52.000000</td>\n",
       "      <td>141.909091</td>\n",
       "      <td>34.066667</td>\n",
       "      <td>35682.000000</td>\n",
       "      <td>1243.333333</td>\n",
       "      <td>41.950000</td>\n",
       "      <td>-114.310000</td>\n",
       "      <td>5.000010</td>\n",
       "    </tr>\n",
       "  </tbody>\n",
       "</table>\n",
       "</div>"
      ],
      "text/plain": [
       "             MedInc      HouseAge  ...     Longitude   MedHouseVal\n",
       "count  20640.000000  20640.000000  ...  20640.000000  20640.000000\n",
       "mean       3.870671     28.639486  ...   -119.569704      2.068558\n",
       "std        1.899822     12.585558  ...      2.003532      1.153956\n",
       "min        0.499900      1.000000  ...   -124.350000      0.149990\n",
       "25%        2.563400     18.000000  ...   -121.800000      1.196000\n",
       "50%        3.534800     29.000000  ...   -118.490000      1.797000\n",
       "75%        4.743250     37.000000  ...   -118.010000      2.647250\n",
       "max       15.000100     52.000000  ...   -114.310000      5.000010\n",
       "\n",
       "[8 rows x 9 columns]"
      ]
     },
     "execution_count": 52,
     "metadata": {},
     "output_type": "execute_result"
    }
   ],
   "source": [
    "df.describe()"
   ]
  },
  {
   "cell_type": "code",
   "execution_count": 53,
   "id": "e5ea2f78",
   "metadata": {},
   "outputs": [
    {
     "data": {
      "text/plain": [
       "MedHouseVal    1.000000\n",
       "MedInc         0.688075\n",
       "AveRooms       0.151948\n",
       "HouseAge       0.105623\n",
       "AveOccup      -0.023737\n",
       "Name: MedHouseVal, dtype: float64"
      ]
     },
     "execution_count": 53,
     "metadata": {},
     "output_type": "execute_result"
    }
   ],
   "source": [
    "df.corr(numeric_only = True)['MedHouseVal'].sort_values(ascending = False).head()"
   ]
  },
  {
   "cell_type": "markdown",
   "id": "896371b3",
   "metadata": {},
   "source": [
    "## Train Test & Split"
   ]
  },
  {
   "cell_type": "code",
   "execution_count": 54,
   "id": "46a6cb3f",
   "metadata": {},
   "outputs": [],
   "source": [
    "X  = df.drop(columns = ['MedHouseVal'])\n",
    "y = df['MedHouseVal']\n",
    "X_train, X_test, y_train,y_test = train_test_split(X, y, test_size=0.2, random_state=42)"
   ]
  },
  {
   "cell_type": "markdown",
   "id": "4caca989",
   "metadata": {},
   "source": [
    "## Baseline OLS"
   ]
  },
  {
   "cell_type": "code",
   "execution_count": 55,
   "id": "118128cf",
   "metadata": {},
   "outputs": [
    {
     "name": "stdout",
     "output_type": "stream",
     "text": [
      "Mean squared error: 0.5558915986952438\n",
      "Mean absolute error: 0.5332001304956565\n",
      "Root squared error: 0.5757877060324512\n"
     ]
    }
   ],
   "source": [
    "ols = Pipeline(steps=[('scaler', StandardScaler()),\n",
    "                ('lin', LinearRegression())])\n",
    "# Fit on train set\n",
    "ols.fit(X_train,y_train)\n",
    "# Test on test set\n",
    "pred = ols.predict(X_test)\n",
    "# Compute score btw test outcome and its prediction\n",
    "rsme = mean_squared_error(y_test, pred)\n",
    "mae = mean_absolute_error(y_test,pred)\n",
    "r2 = r2_score(y_test,pred)\n",
    "print(f\"Mean squared error: {rsme}\")\n",
    "print(f\"Mean absolute error: {mae}\")\n",
    "\n",
    "print(f\"Root squared error: {r2}\")\n"
   ]
  },
  {
   "cell_type": "markdown",
   "id": "f88ddbcb",
   "metadata": {},
   "source": [
    "## K-Fold Cross Validation "
   ]
  },
  {
   "cell_type": "code",
   "execution_count": 56,
   "id": "a93ead4a",
   "metadata": {},
   "outputs": [
    {
     "name": "stdout",
     "output_type": "stream",
     "text": [
      "cv_rsme mean: 0.7282509142479743\n",
      "cv_rsme std: 0.014935522116016418\n"
     ]
    }
   ],
   "source": [
    "cv = KFold(n_splits = 5, shuffle = True, random_state = 42)\n",
    "cv_rsme = -cross_val_score(ols,X,y,cv =cv, scoring = \"neg_root_mean_squared_error\")\n",
    "print(f\"cv_rsme mean: {cv_rsme.mean()}\")\n",
    "print(f\"cv_rsme std: {cv_rsme.std()}\")"
   ]
  },
  {
   "cell_type": "markdown",
   "id": "7ee4e66f",
   "metadata": {},
   "source": [
    "## Lasso with CV "
   ]
  },
  {
   "cell_type": "code",
   "execution_count": 64,
   "id": "7d140b99",
   "metadata": {},
   "outputs": [
    {
     "name": "stdout",
     "output_type": "stream",
     "text": [
      "Lasso mean squared error: 0.5544913600832686\n",
      "Lasso root squared error: 0.5332001304956565\n"
     ]
    }
   ],
   "source": [
    "grid = {'alpha': np.logspace(-3,2,30)}\n",
    "lasso = Pipeline([('scaler' , StandardScaler()),\n",
    "                  ('model', Lasso(max_iter =1000, random_state = 42))\n",
    "])\n",
    "gs_lasso = GridSearchCV(lasso, {'model__alpha': grid[\"alpha\"]},cv = cv,\n",
    "                        scoring='neg_root_mean_squared_error', n_jobs=-1)\n",
    "\n",
    "gs_lasso.fit(X_train,y_train)\n",
    "\n",
    "pred_lasso = gs_lasso.best_estimator_.predict(X_test)\n",
    "rmse_lasso = mean_squared_error(y_test, pred_lasso)\n",
    "r2_lasso   = r2_score(y_test, pred_lasso)\n",
    "print(f\"Lasso mean squared error: {rmse_lasso}\")\n",
    "print(f\"Lasso root squared error: {mae}\")\n"
   ]
  },
  {
   "cell_type": "markdown",
   "id": "99b18e53",
   "metadata": {},
   "source": [
    "## Ridge regression"
   ]
  },
  {
   "cell_type": "code",
   "execution_count": 66,
   "id": "68b0db2d",
   "metadata": {},
   "outputs": [
    {
     "name": "stdout",
     "output_type": "stream",
     "text": [
      "Ridge mean squared error: 0.5557890717749265\n",
      "Ridge root squared error: 0.575865946430693\n"
     ]
    }
   ],
   "source": [
    "ridge = Pipeline([\n",
    "    ('scaler', StandardScaler()),\n",
    "    ('model', Ridge(random_state=42))\n",
    "])\n",
    "gs_ridge = GridSearchCV(ridge, {'model__alpha': grid['alpha']}, cv=cv,\n",
    "                        scoring='neg_root_mean_squared_error', n_jobs=-1)\n",
    "gs_ridge.fit(X_train, y_train)\n",
    "\n",
    "pred_ridge = gs_ridge.best_estimator_.predict(X_test)\n",
    "rmse_ridge = mean_squared_error(y_test, pred_ridge)\n",
    "r2_ridge   = r2_score(y_test, pred_ridge)\n",
    "rmse_ridge, r2_ridge\n",
    "print(f\"Ridge mean squared error: {rmse_ridge}\")\n",
    "print(f\"Ridge root squared error: {r2_ridge}\")"
   ]
  }
 ],
 "metadata": {
  "kernelspec": {
   "display_name": "Python 3",
   "language": "python",
   "name": "python3"
  },
  "language_info": {
   "codemirror_mode": {
    "name": "ipython",
    "version": 3
   },
   "file_extension": ".py",
   "mimetype": "text/x-python",
   "name": "python",
   "nbconvert_exporter": "python",
   "pygments_lexer": "ipython3",
   "version": "3.13.8"
  }
 },
 "nbformat": 4,
 "nbformat_minor": 5
}
